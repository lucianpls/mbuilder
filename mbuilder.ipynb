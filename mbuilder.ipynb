{
 "cells": [
  {
   "cell_type": "code",
   "execution_count": null,
   "metadata": {},
   "outputs": [],
   "source": [
    "from os.path import basename\n",
    "\n",
    "files = {}\n",
    "with open(\"PSP/pq3s\") as pq3s:\n",
    "    for line in pq3s:\n",
    "        _,_,size,name = line.split()\n",
    "        files[basename(name).split(\".\")[0]] = { \"qb3\": int(size) }\n",
    "\n",
    "with open(\"PSP/JP2s\") as JP2s:\n",
    "    for line in JP2s:\n",
    "        _,_,size,name = line.split()\n",
    "        files[basename(name).split(\".\")[0]][\"jp2\"] = int(size)\n",
    "\n",
    "\n",
    "sizes = list((files[f]['jp2'], files[f]['qb3']) for f in files.keys())"
   ]
  },
  {
   "cell_type": "code",
   "execution_count": null,
   "metadata": {},
   "outputs": [],
   "source": [
    "def plot_size(sizes):\n",
    "    from matplotlib import pyplot as plt\n",
    "    import numpy as np\n",
    "\n",
    "    x, y = zip(*sizes)\n",
    "    coef = np.polyfit(x, y, 1)\n",
    "    polifn = np.poly1d(coef)\n",
    "\n",
    "    plt.figure(figsize=(10, 10 * coef[0]))\n",
    "    plt.scatter(x,y)\n",
    "    plt.plot(x, polifn(x), color='red', label = f\"1:{coef[0]}\")\n",
    "    plt.plot((0,3e9), (0,3e9), color='black', label = \"1:1\")\n",
    "    plt.legend()\n",
    "    plt.show()"
   ]
  },
  {
   "cell_type": "code",
   "execution_count": null,
   "metadata": {},
   "outputs": [],
   "source": [
    "# RED files\n",
    "plot_size([(files[f]['jp2'], files[f]['qb3']) for f in files.keys() if \"RED\" not in f])"
   ]
  },
  {
   "cell_type": "code",
   "execution_count": null,
   "metadata": {},
   "outputs": [],
   "source": [
    "# Color files\n",
    "plot_size([(files[f]['jp2'], files[f]['qb3']) for f in files.keys() if \"RED\" in f])"
   ]
  },
  {
   "cell_type": "code",
   "execution_count": null,
   "metadata": {},
   "outputs": [],
   "source": [
    "# Plot band histrograms\n",
    "def get_values(fname : str):\n",
    "\n",
    "    try:\n",
    "        import xml.etree.ElementTree as ET\n",
    "        tree = ET.parse(fname)\n",
    "        root = tree.getroot()\n",
    "        pam=root.find(\"PAMDataset\")\n",
    "        seq = []\n",
    "        for child in pam:\n",
    "            if child.tag == \"PAMRasterBand\":\n",
    "                hist = child.find(\"Histograms/HistItem\")\n",
    "                count = int(hist.find(\"./BucketCount\").text)\n",
    "                hist = [int(c) for c in hist.find(f\"./HistCounts\").text.split(\"|\")]\n",
    "                if len(hist) == count:\n",
    "                    seq.append(hist)\n",
    "                else:\n",
    "                    raise Exception(f\"{fname} has {len(hist)} instead of {count}\")\n",
    "        if (len(seq) == 0):\n",
    "            raise Exception(f\"{fname} has no band\")\n",
    "        if (len(seq) == 1):\n",
    "            return seq[0]\n",
    "        else:\n",
    "            return seq\n",
    "    except:\n",
    "        return None\n",
    "\n",
    "def plot_hist(hist: list):\n",
    "    import matplotlib.pyplot as plt\n",
    "    colors = [\"red\", \"green\", \"blue\"]\n",
    "    if type(hist[0]) == int:\n",
    "        hist[0] = 0\n",
    "        plt.figure(figsize=(20, 10))\n",
    "        plt.plot(hist, color=colors[0], label = \"RED\")\n",
    "        plt.show()\n",
    "    else:\n",
    "        plt.figure(figsize = (20, 10))\n",
    "        band = 1\n",
    "        for seq in hist:\n",
    "            seq[0]  = 0\n",
    "            plt.plot(seq, label=f\"Band {band} : {len(seq)}\", color=colors[band-1])\n",
    "            band += 1\n",
    "        plt.legend()\n",
    "        plt.show()\n"
   ]
  },
  {
   "cell_type": "code",
   "execution_count": null,
   "metadata": {},
   "outputs": [],
   "source": [
    "plot_hist(get_values(\"PSP/ORB_010500_010599/PSP_010573_1755/PSP_010573_1755_RED.mrf\"))"
   ]
  },
  {
   "cell_type": "code",
   "execution_count": null,
   "metadata": {},
   "outputs": [],
   "source": [
    "plot_hist(get_values(\"PSP/ORB_010500_010599/PSP_010573_1755/PSP_010573_1755_COLOR.mrf\"))"
   ]
  }
 ],
 "metadata": {
  "kernelspec": {
   "display_name": "Python 3.7.9 64-bit",
   "language": "python",
   "name": "python3"
  },
  "language_info": {
   "codemirror_mode": {
    "name": "ipython",
    "version": 3
   },
   "file_extension": ".py",
   "mimetype": "text/x-python",
   "name": "python",
   "nbconvert_exporter": "python",
   "pygments_lexer": "ipython3",
   "version": "3.7.9"
  },
  "orig_nbformat": 4,
  "vscode": {
   "interpreter": {
    "hash": "ce21b655b4d6c9e397d5ad93d5666c623f49909f6d0cc2f72076dafcf1b3ecfb"
   }
  }
 },
 "nbformat": 4,
 "nbformat_minor": 2
}
